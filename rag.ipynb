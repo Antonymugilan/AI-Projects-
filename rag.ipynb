{
 "cells": [
  {
   "cell_type": "code",
   "execution_count": 68,
   "metadata": {},
   "outputs": [
    {
     "data": {
      "text/plain": [
       "True"
      ]
     },
     "execution_count": 68,
     "metadata": {},
     "output_type": "execute_result"
    }
   ],
   "source": [
    "# RETRIVAL AUGUMENTED GENERATION\n",
    "\n",
    "import os\n",
    "from dotenv import load_dotenv\n",
    "load_dotenv()"
   ]
  },
  {
   "cell_type": "code",
   "execution_count": 71,
   "metadata": {},
   "outputs": [],
   "source": [
    "os.environ[\"OPENAI_API_KEY\"] = \"Your_ api _ key \""
   ]
  },
  {
   "cell_type": "code",
   "execution_count": 77,
   "metadata": {},
   "outputs": [],
   "source": [
    "# !pip install llama_index"
   ]
  },
  {
   "cell_type": "code",
   "execution_count": 78,
   "metadata": {},
   "outputs": [],
   "source": [
    "# !pip install --upgrade llama_index"
   ]
  },
  {
   "cell_type": "code",
   "execution_count": 7,
   "metadata": {},
   "outputs": [
    {
     "name": "stderr",
     "output_type": "stream",
     "text": [
      "C:\\Users\\Mugilan\\AppData\\Local\\Temp\\ipykernel_29936\\2352243355.py:3: DeprecationWarning: Call to deprecated class method from_defaults. (ServiceContext is deprecated, please use `llama_index.settings.Settings` instead.) -- Deprecated since version 0.10.0.\n",
      "  service_context= ServiceContext.from_defaults(chunk_size=200)\n"
     ]
    }
   ],
   "source": [
    "from llama_index.core import VectorStoreIndex,SimpleDirectoryReader, ServiceContext\n",
    "documents=SimpleDirectoryReader(\"./data\").load_data()\n",
    "service_context= ServiceContext.from_defaults(chunk_size=200)"
   ]
  },
  {
   "cell_type": "code",
   "execution_count": 73,
   "metadata": {},
   "outputs": [
    {
     "data": {
      "text/plain": [
       "[Document(id_='06998335-7462-4b79-b914-771ab0a96c1a', embedding=None, metadata={'page_label': '1', 'file_name': '1.IFFCO Oracle Cloud.PDF', 'file_path': 'c:\\\\Users\\\\Mugilan\\\\RAGllm\\\\data\\\\1.IFFCO Oracle Cloud.PDF', 'file_type': 'application/pdf', 'file_size': 1389131, 'creation_date': '2024-05-27', 'last_modified_date': '2024-05-12'}, excluded_embed_metadata_keys=['file_name', 'file_type', 'file_size', 'creation_date', 'last_modified_date', 'last_accessed_date'], excluded_llm_metadata_keys=['file_name', 'file_type', 'file_size', 'creation_date', 'last_modified_date', 'last_accessed_date'], relationships={}, text=' \\n1 \\nTechnical Case Study # 6 \\n \\nIFFCO improves IT performance by 7x with \\nOracle Cloud  \\nBy Akshai Parthasarathy,  \\nProduct Marketing Director, Oracle  \\nBy Anil Kumar Gupta,  \\nDirector, IFFCO Ltd  \\n“The board, management, and our stakeholders are very confident that IFFCO has a \\nrobust IT system, one that operates around the clock, pandemic or not. And that system \\nis powered by Oracle.”  \\nA.K. Gupta,  Director of IFFCO  \\n  \\n \\nIndian Farmers Fertiliser Cooperative Ltd. (IFFCO) is the world’s largest manufacturer and \\nmarketeer of fertilizers in the cooperative sector. It serves over 35,000 cooperatives and 55 \\nmillion farmers across India. IFFCO has five manufacturing plants in India and 19 joints \\nventures within India and overseas. It has been using Oracle products for decades and using \\nOracle Cloud Infrastructure (OCI) more recently to modernize its IT estate.  \\n \\n', start_char_idx=None, end_char_idx=None, text_template='{metadata_str}\\n\\n{content}', metadata_template='{key}: {value}', metadata_seperator='\\n'),\n",
       " Document(id_='ade61272-f0e4-4f3e-b5fb-1fcb85f8435a', embedding=None, metadata={'page_label': '2', 'file_name': '1.IFFCO Oracle Cloud.PDF', 'file_path': 'c:\\\\Users\\\\Mugilan\\\\RAGllm\\\\data\\\\1.IFFCO Oracle Cloud.PDF', 'file_type': 'application/pdf', 'file_size': 1389131, 'creation_date': '2024-05-27', 'last_modified_date': '2024-05-12'}, excluded_embed_metadata_keys=['file_name', 'file_type', 'file_size', 'creation_date', 'last_modified_date', 'last_accessed_date'], excluded_llm_metadata_keys=['file_name', 'file_type', 'file_size', 'creation_date', 'last_modified_date', 'last_accessed_date'], relationships={}, text=' \\n2 \\n \\nFigure 1. Overview of IFFCO  \\nEmpowering farmers with nano urea  \\nIFFCO wants to bring innovative ideas to marke t to improve the livelihood of farmers in \\nIndia. To this end, it recently innovated and launched first of its kind nano urea, portable 500 \\nml (16.9 fl oz) bottled nano urea that replaces 45 kg (99.2 lb) urea bags. Nano urea improves \\ncrop yields by 8 –10%, r educes pesticide and chemical fertilizer use, and mitigates soil \\nerosion. The product also cuts farmers’ spending on urea by half.  \\nNano urea brings new demands to IFFCO’s cloud computing needs. The organization needs a \\nreliable cloud vendor to support the processes of 6 –7 new manufacturing plants during the \\nupcoming year, enhancing its production capability 300 –350 million bottles of nano urea to \\nmeet increasing demand.  \\nBusiness challenges  \\nIFFCO’s cloud adoption is driven by a need to innovate. With cloud i nfrastructure, the \\norganization wanted capabilities for a dynamic business that can adapt to the changing needs \\nof the market while growing fast. IFFCO wanted to shorten innovation cycles, but it was \\ninhibited by rigid on -premises data center deployments. In addition, IT teams were burdened \\nby the overhead of maintaining legacy systems. IFFCO wanted to apply the elasticity and \\navailability of cloud for improving overall performance of applications at lowest possible \\noperational overhead.  \\nSeveral technology systems and platforms in India’s agriculture ecosystem, including \\nIFFCO’s, have become dependent and integrated with each other. For example, IFFCO’s core \\nsystems are linked to key government portals, such as a fertilizer management system, the E -\\nwayBill s ystem for transporting goods, and GST, the nation’s taxation platform. Given the \\n', start_char_idx=None, end_char_idx=None, text_template='{metadata_str}\\n\\n{content}', metadata_template='{key}: {value}', metadata_seperator='\\n'),\n",
       " Document(id_='b9f4544e-a2e6-4e97-b0f5-fc0957b4f70e', embedding=None, metadata={'page_label': '3', 'file_name': '1.IFFCO Oracle Cloud.PDF', 'file_path': 'c:\\\\Users\\\\Mugilan\\\\RAGllm\\\\data\\\\1.IFFCO Oracle Cloud.PDF', 'file_type': 'application/pdf', 'file_size': 1389131, 'creation_date': '2024-05-27', 'last_modified_date': '2024-05-12'}, excluded_embed_metadata_keys=['file_name', 'file_type', 'file_size', 'creation_date', 'last_modified_date', 'last_accessed_date'], excluded_llm_metadata_keys=['file_name', 'file_type', 'file_size', 'creation_date', 'last_modified_date', 'last_accessed_date'], relationships={}, text=' \\n3 \\nconnected ecosystem, IFFCO needed all its systems, consisting of 100+ applications, to be \\nhighly available. The COVID -19 pandemic further added the ambiguity to scale IT \\nopera tions, but IFFCO’S IT team quickly realized that they could turn this challenge to an \\nopportunity by using the potential of cloud computing to its maximum.  \\nLastly, IFFCO needed to provide the benefits of its technology to all its stakeholders, \\nincluding em ployees, members, transporters, and farmers, some of whom have limited \\nliteracy. To accommodate all stakeholders, IFFCO wanted to add a voice interface to its \\napplications.  \\nSuite of Oracle products used  \\nIFFCO has worked with Oracle for more than two decade s on its critical applications and \\ndatabases that enable business activities. All custom applications are deployed on Windows \\nServer 2012 VMs comprising five WebLogic Servers and nine .NET Servers. In addition, \\nIFFCO used IBM AIX P8 machines for running co rporate, marketing, and ERP applications.  \\nThe following list includes the relevant OCI features, services, and tools that IFFCO utilizes:  \\n\\uf0b7 OCI Compute : OCI provides fast, flexible, and affordable compute c apacity to fit any \\nworkload need from performant bare metal servers and virtual machines (VMs) to \\nlightweight containers.  \\n\\uf0b7 Oracle Exadata Cloud service : Oracle Exadata Cloud service is the best place for \\ncustomers to run Oracle Database workloads in the cloud. Dedicated X8M infrastructure \\nis isolated from other users, allowing database teams to improve security, performance, \\nand uptime for customer databases.  \\n\\uf0b7 Oracle E -Business Suite (EBS) : An Oracle packaged application trusted by thousands of \\norganizations around the world to run their key business operations like enterprise \\nresource planning (ERP)  \\n\\uf0b7 Custom applications on OCI : Homegrown IT or departmental applications that support an \\norganization’s unique business needs  \\n\\uf0b7 Oracle Digital Assistan t: Oracle Digital Assistant is an AI service that offers prebuilt skills \\nand templates to create conversational experiences for your business applications and \\ncustomers through text, chat, and voice interfaces.  \\n\\uf0b7 OCI Load Balancing : OCI Flexible Load Balancing enables customers to distribute web \\nrequests across a fleet of servers or automatically route traffic across fault domains, \\navailability domains, or regions, yielding high availabilit y and fault tolerance for any \\napplication or data source.  \\n\\uf0b7 OCI Web Application Firewall (WAF) : By combining threat intelligence with consistent rule \\nenforcement on an Ora cle flexible load balancer, OCI WAF strengthens defenses and \\nprotects internet -facing application servers and internal applications.  \\n\\uf0b7 OCI FastConnect : OCI FastConnect allows customers to con nect directly to their OCI \\nvirtual cloud network (VCN) through dedicated, private, high -bandwidth connections.  \\nAcross five manufacturing plants, the organization has 100+ applications running on OCI, \\nincluding Oracle E -Business Suite. IFFCO has replaced on -premises infrastructure with OCI, \\nwhich provides better availability, security and scalability.  ', start_char_idx=None, end_char_idx=None, text_template='{metadata_str}\\n\\n{content}', metadata_template='{key}: {value}', metadata_seperator='\\n'),\n",
       " Document(id_='f0ee1117-630c-47a0-9711-26d15b8be707', embedding=None, metadata={'page_label': '4', 'file_name': '1.IFFCO Oracle Cloud.PDF', 'file_path': 'c:\\\\Users\\\\Mugilan\\\\RAGllm\\\\data\\\\1.IFFCO Oracle Cloud.PDF', 'file_type': 'application/pdf', 'file_size': 1389131, 'creation_date': '2024-05-27', 'last_modified_date': '2024-05-12'}, excluded_embed_metadata_keys=['file_name', 'file_type', 'file_size', 'creation_date', 'last_modified_date', 'last_accessed_date'], excluded_llm_metadata_keys=['file_name', 'file_type', 'file_size', 'creation_date', 'last_modified_date', 'last_accessed_date'], relationships={}, text=' \\n4 \\n \\n \\nFigure 2. IFFCO’s Infrastructure  \\nMigration path and Oracle solution  \\nIFFCO uses several Oracl e products for its business operations, including Oracle E -Business \\nSuite, eVikas CRM, and several other custom applications for procurement, supply chain \\nmanagement, and HR management. The deployment consists of two OCI regions in India: \\nMumbai and Hydera bad. \\nAs shown in the following figure, IFFCO started on -premises and participated in a proof -of-\\nconcept (PoC) deployment with OCI. After successful validation, the organization migrated \\nall its workloads to the cloud.  \\nThe cloud deployment is in a hub -and-spoke model. The Mumbai region acts as the hub for \\nall other plant infrastructure. The Mumbai region hub is connected to on -premises \\ninfrastructure using FastConnect, which provides low -latency data transfers over a dedicated \\nand secure network path. As sho wn in the following figure, the Mumbai region hosts the \\nproduction environment of legacy applications and E -Business Suite.  \\n', start_char_idx=None, end_char_idx=None, text_template='{metadata_str}\\n\\n{content}', metadata_template='{key}: {value}', metadata_seperator='\\n'),\n",
       " Document(id_='e60d496e-cdf4-4085-91dc-b752fae3ec97', embedding=None, metadata={'page_label': '5', 'file_name': '1.IFFCO Oracle Cloud.PDF', 'file_path': 'c:\\\\Users\\\\Mugilan\\\\RAGllm\\\\data\\\\1.IFFCO Oracle Cloud.PDF', 'file_type': 'application/pdf', 'file_size': 1389131, 'creation_date': '2024-05-27', 'last_modified_date': '2024-05-12'}, excluded_embed_metadata_keys=['file_name', 'file_type', 'file_size', 'creation_date', 'last_modified_date', 'last_accessed_date'], excluded_llm_metadata_keys=['file_name', 'file_type', 'file_size', 'creation_date', 'last_modified_date', 'last_accessed_date'], relationships={}, text=' \\n5 \\n \\n \\nFigure 3. IFFCO’s hub architecture in the Mumbai region  \\nOCI WAF provides security to traffic following over the internet. All incoming traffic is sent \\nto the public subnet and the  Check Point layer -7 firewall . IFFCO preferred to use separate \\nVCNs for better isolation, more control, and reduced impact radius if a security breach \\noccurs. EBS supports business processes and financial reporting. Exadata is used to host \\ndatabases for EBS and legacy apps.  \\nThe disaster recovery site in the Hyderabad region provides active -active disaster recovery. If \\na failure occurs in the Mumbai region, applications continue to run in the disaster recove ry \\nsite without disruption. This disaster recovery site is used for both legacy applications and E -\\nBusiness Suite and hosts nonproduction environments, developer and Test. The OCI Lift \\nservices team ensured that IFFCO had a smooth migration and deployment.  The team also \\nconducted multiple workshops to enable IFFCO successfully run workloads on OCI but also \\nassisted with planning and designing a flexible and scalable networking architecture based on \\nhub-and-spoke model for production, non -production, and dis aster recovery environments for \\nWindows -based legacy applications, Oracle EBS, and Exadata on OCI.  \\n \\nVideo Link  \\nhttps://youtu.be/WXC2Q7dfVs4   \\n \\n', start_char_idx=None, end_char_idx=None, text_template='{metadata_str}\\n\\n{content}', metadata_template='{key}: {value}', metadata_seperator='\\n'),\n",
       " Document(id_='d4d05d4f-4bda-4fc4-b7b0-b58e82689ffb', embedding=None, metadata={'page_label': '6', 'file_name': '1.IFFCO Oracle Cloud.PDF', 'file_path': 'c:\\\\Users\\\\Mugilan\\\\RAGllm\\\\data\\\\1.IFFCO Oracle Cloud.PDF', 'file_type': 'application/pdf', 'file_size': 1389131, 'creation_date': '2024-05-27', 'last_modified_date': '2024-05-12'}, excluded_embed_metadata_keys=['file_name', 'file_type', 'file_size', 'creation_date', 'last_modified_date', 'last_accessed_date'], excluded_llm_metadata_keys=['file_name', 'file_type', 'file_size', 'creation_date', 'last_modified_date', 'last_accessed_date'], relationships={}, text=' \\n6 \\n \\n \\nFigure 4. IFFCO’s disaster recovery site architecture in the Hyderabad region  \\nThe results  \\nIFFCO’s complete migration to OCI was completed in 57 hours for EBS and 33 hours for \\ncustom applications. The total time to migrate workloads bettered by six hours th an the \\nestimates.  \\nOCI has improved IFFCO’s business agility through better management of IT, faster \\nperformance, and enhanced security. Overall performance has improved 2 –7 times, enabling \\nteams to do more in less time. For example, the business developmen t team can generate \\ntime-bound reports significantly faster than before. Automatic scale -up during month -end and \\nyear-end peak loads simplifies cloud management further.  \\nInnovation roadmap  \\nIFFCO aims to shape the future of the Indian agriculture industry w ith a technology -first \\napproach. As nano urea adoption increases dramatically during the upcoming year, the \\norganization wants to use Oracle’s capabilities to support its new manufacturing plants with \\n100% uptime. As part of the nano urea initiative, it pl ans to use drones and affordable and \\nenergy -efficient technology for farmers to improve crop yields. It’s also looking to expand \\ntwo other digital initiatives: IFFCO BAZAR, an e -commerce and communication portal, and \\nIFFCOYuva, a skill development and empl oyment venture.  \\n', start_char_idx=None, end_char_idx=None, text_template='{metadata_str}\\n\\n{content}', metadata_template='{key}: {value}', metadata_seperator='\\n'),\n",
       " Document(id_='a5bc0621-7fab-490e-9507-c0e9da9787cb', embedding=None, metadata={'page_label': '1', 'file_name': '2.Toyota.PDF', 'file_path': 'c:\\\\Users\\\\Mugilan\\\\RAGllm\\\\data\\\\2.Toyota.PDF', 'file_type': 'application/pdf', 'file_size': 971839, 'creation_date': '2024-05-27', 'last_modified_date': '2024-05-12'}, excluded_embed_metadata_keys=['file_name', 'file_type', 'file_size', 'creation_date', 'last_modified_date', 'last_accessed_date'], excluded_llm_metadata_keys=['file_name', 'file_type', 'file_size', 'creation_date', 'last_modified_date', 'last_accessed_date'], relationships={}, text=' \\n1 \\n \\nCase Study # 4 \\n \\nToyota moves high -performance workloads \\nto Oracle Cloud  \\nWorld’s largest automaker shifts high -performance computing workloads to Oracle \\nCloud Infrastructure to improve car design and development efficiency.  \\n \\n \\n \\n“We now run our HPC workloads on Oracle Cloud Infrastructure as part of our HPC multicloud \\nstrategy. OCI has incredible performance, and running computational fluid dynamics \\nsimulations with it has allowed us to improve the speed of computations and to opt imize costs. \\nThis is helping us make the development of cars at Toyota more efficient, and produce cars with \\nbetter performance.”  \\nShinichi Noda,  Group Leader, DX Promotion Division, Toyota Motor  \\n \\nProducts list  \\n\\uf0b7 Oracle Cloud Infrastructure  \\n \\nBusiness challenges  \\nTo continue improving the quality of its cars, Toyota is implementing a “Toyota New Global \\nArchitecture.” As a structural innovation that stretches across the company’s global car \\nmanufacturing business, it’s meant to bring dramatic improvements to the basic \\nperformance of Toyota cars. Increasing the efficiency of automobile design and development \\nthrough computational tests and simulations and constantly striving to improve are the keys \\nto making cars tha t have both excellent driving and environmental performance.  \\nToyota had handled high -performance computing workloads in an on -premises \\nenvironment. However, while continuing to use its existing on -premises resources, the \\ncompany began to look into cloud se rvices in order to flexibly meet requests from users, \\nsuch as quickly increasing resources and testing new technologies.  \\n', start_char_idx=None, end_char_idx=None, text_template='{metadata_str}\\n\\n{content}', metadata_template='{key}: {value}', metadata_seperator='\\n'),\n",
       " Document(id_='50da5e76-975c-48e0-8ffc-21e2d9639c66', embedding=None, metadata={'page_label': '2', 'file_name': '2.Toyota.PDF', 'file_path': 'c:\\\\Users\\\\Mugilan\\\\RAGllm\\\\data\\\\2.Toyota.PDF', 'file_type': 'application/pdf', 'file_size': 971839, 'creation_date': '2024-05-27', 'last_modified_date': '2024-05-12'}, excluded_embed_metadata_keys=['file_name', 'file_type', 'file_size', 'creation_date', 'last_modified_date', 'last_accessed_date'], excluded_llm_metadata_keys=['file_name', 'file_type', 'file_size', 'creation_date', 'last_modified_date', 'last_accessed_date'], relationships={}, text=' \\n2 \\nWhy Toyota Motor chose Oracle  \\nThe company benchmarked a number of cloud service providers as part of its HPC \\nmulticloud strategy, looki ng into performance, cost, computational accuracy, flexibility, \\nstability, and other requirements. After considering these factors, Toyota decided to move \\nthe foundation of its computational simulations to  Oracle  Cloud Infrastructure (OCI)  while \\nalso using existing on -premises systems.  \\n \\nOracle Cloud Infrastructure offers the industry’s first, and only, public cloud with bare \\nmetal HPC computing. It has a low latency of less than 2 microseconds and 100 Gbps of \\nbandwidth, achieved with a Remote Direct Memory Access network. This protocol transfers \\ndata from the memory of a local computer to the memory of a separate, remote computer. \\nOCI’s unique HPC solution allows Toyota to run large and complex computational \\nsimulations, which require a massive amount of computing power, all in the cloud and \\nwithout any compromises in performance.  \\n \\nResults  \\nRunning high -performance workloads for computational simulations on Oracle Cloud \\nInfrastructure has allowed Toyota to increa se the speed and efficiency of car design and \\ndevelopment while also optimizing costs.  \\nAlso, Toyota has dramatically shortened lead time in computing resource procurement, \\nwhich used to take more than six months in the on -premises environment. Now OCI need s \\njust a few days, given there is enough physical space available.  \\nWith OCI, Toyota can now flexibly handle the testing of new technologies, something that \\nwas difficult in the on -premises setup. Toyota achieved a high degree of cost performance \\nwith OCI, as it has allowed the company to shorten the time needed to perform \\ncomputations through improvements to computational ability.  \\n \\nLearn more  \\n\\uf0b7 Toyota , opens in new tab  \\n\\uf0b7 Infographic: OCI for Enterprise (PDF) , opens in new tab  \\n\\uf0b7 Get the guide to Cloud Essentials (PDF) , opens in new tab  \\n\\uf0b7 Understand the Oracle Cloud Infrastructure Platform (PDF) , opens in new tab  \\n\\uf0b7 Get started on Oracle Cloud Infrastructure (PDF) , opens in new tab  \\n\\uf0b7 Learn more about HPC on Oracle Clou d Infrastructure  \\nProducts list  \\n\\uf0b7 Oracle Cloud Infrastructure  \\n  ', start_char_idx=None, end_char_idx=None, text_template='{metadata_str}\\n\\n{content}', metadata_template='{key}: {value}', metadata_seperator='\\n'),\n",
       " Document(id_='3984372a-2ed8-4eca-8476-20f7ecd66fb4', embedding=None, metadata={'page_label': '1', 'file_name': '3.Kotak Bank.pdf', 'file_path': 'c:\\\\Users\\\\Mugilan\\\\RAGllm\\\\data\\\\3.Kotak Bank.pdf', 'file_type': 'application/pdf', 'file_size': 258248, 'creation_date': '2024-05-27', 'last_modified_date': '2024-05-12'}, excluded_embed_metadata_keys=['file_name', 'file_type', 'file_size', 'creation_date', 'last_modified_date', 'last_accessed_date'], excluded_llm_metadata_keys=['file_name', 'file_type', 'file_size', 'creation_date', 'last_modified_date', 'last_accessed_date'], relationships={}, text=\" \\n1 \\nTechnical Case Study # 14 \\n \\nKotak Mahindra banks on Oracle to boost \\nemployee experience  \\nLeading Indian banking and financial services group reimagines the recruitment process with \\nOracle Fusion Cloud Human Capital Management.  \\n \\n \\n“Over the last year, when people started working from home and they were in lockdown, Oracle \\nWorkforce Health and Safety was used primarily for data collection. That was quite helpful because \\nwe didn't have to re -create the employee database.”  \\nSukhjit Pasricha,  President and G roup Chief Human Resource Officer, Kotak Mahindra Bank  \\nProducts list  \\n• Oracle Cloud HCM  \\nBusiness challenges  \\nKotak Mahindra Bank, headquartered in Mumbai, offers  a range of financial services that \\ncater to retail and corporate customers across urban and rural India. It has a national footprint of \\n1,612 branches and 2,591 ATMs.  \\nOne of the main challenges for the bank, as for the rest of the world, was adapting its \\nbusiness during the pandemic, when most employees were working from home. Using  Oracle Fusion \\nCloud Human Capital Management (HCM) , the bank auto mated its recruitment process, significantly \\nreducing manual intervention.  Oracle Workforce Health and Safety  proved to be helpful in keeping \\nbranch workers all over the country safe.  \\nEstablishing paperless communications was another plus that Oracle Cloud HCM was able to bring. \\nIn a 50,000 -plus employee organization, this shift  made a positive impact on the environment and \\nled to substantial savings for the bank.  \\n\", start_char_idx=None, end_char_idx=None, text_template='{metadata_str}\\n\\n{content}', metadata_template='{key}: {value}', metadata_seperator='\\n'),\n",
       " Document(id_='b013a4f1-1799-4545-bfdf-0f96af798088', embedding=None, metadata={'page_label': '2', 'file_name': '3.Kotak Bank.pdf', 'file_path': 'c:\\\\Users\\\\Mugilan\\\\RAGllm\\\\data\\\\3.Kotak Bank.pdf', 'file_type': 'application/pdf', 'file_size': 258248, 'creation_date': '2024-05-27', 'last_modified_date': '2024-05-12'}, excluded_embed_metadata_keys=['file_name', 'file_type', 'file_size', 'creation_date', 'last_modified_date', 'last_accessed_date'], excluded_llm_metadata_keys=['file_name', 'file_type', 'file_size', 'creation_date', 'last_modified_date', 'last_accessed_date'], relationships={}, text=' \\n2 \\nWhy Kotak Mahindra Bank Chose Oracle  \\nThe primary reason Kotak Mahindra selected Oracle Cloud HCM was due to its ease of use \\non mobile devices. This helped the organizat ion create an internal mobile app and provide a single \\npoint of access for employees, further supporting adoption. Ease of migration from Oracle E -\\nBusiness Suite and on -premises systems to Oracle Cloud HCM was another key driver. Cost, \\nscalability, and fut ure readiness also were factors in Kotak Mahindra’s decision to move forward \\nwith Oracle.  \\nResults  \\nBefore adopting Oracle Cloud HCM, the bank had multiple on -premises HR systems, leading \\nto greater maintenance effort and fragmented employee experiences. The  move to a platform that \\ncould manage a large and diverse employee database as well as different business priorities was a \\nplus.  Oracle Learning  and Oracle Recruiting  within  Oracle Talent Management  helped to automate \\npaperless processes and also to move offline workflows online. The integration of HR processes with \\norganizational processes was another notabl e result.  \\nBy enabling digital signatures, online communications, and paperless workflows, the company \\nestimates a cost savings of about Rs 15 lakh per year by drastically cutting printing and courier costs. \\nDue to the self -service modules, the efficency an d productivity of the organization has increased \\nwhile the user experience has improved.  \\nThanks to Oracle Recruiting, the bank anticipates it will be able to streamline its recruitment \\nefforts as it welcomes new staff into its fold.  \\n \\nPartners  \\nKotak Mahindr a Bank enjoyed a well -managed deployment with  Oracle Consulting , which focused \\non project management and delivery.  \\nProducts list  \\n• Oracle Cloud HCM  \\n ', start_char_idx=None, end_char_idx=None, text_template='{metadata_str}\\n\\n{content}', metadata_template='{key}: {value}', metadata_seperator='\\n')]"
      ]
     },
     "execution_count": 73,
     "metadata": {},
     "output_type": "execute_result"
    }
   ],
   "source": [
    "documents"
   ]
  },
  {
   "cell_type": "code",
   "execution_count": 79,
   "metadata": {},
   "outputs": [],
   "source": [
    "# pip show llama_index"
   ]
  },
  {
   "cell_type": "code",
   "execution_count": 8,
   "metadata": {},
   "outputs": [
    {
     "name": "stderr",
     "output_type": "stream",
     "text": [
      "c:\\Users\\Mugilan\\RAGllm\\venv1\\lib\\site-packages\\tqdm\\auto.py:21: TqdmWarning: IProgress not found. Please update jupyter and ipywidgets. See https://ipywidgets.readthedocs.io/en/stable/user_install.html\n",
      "  from .autonotebook import tqdm as notebook_tqdm\n"
     ]
    },
    {
     "name": "stderr",
     "output_type": "stream",
     "text": [
      "Parsing nodes: 100%|██████████| 10/10 [00:00<00:00, 539.65it/s]\n",
      "Generating embeddings: 100%|██████████| 67/67 [00:02<00:00, 27.65it/s]\n"
     ]
    }
   ],
   "source": [
    "#converting to index\n",
    "index = VectorStoreIndex.from_documents(documents,show_progress=True, service_context=service_context)"
   ]
  },
  {
   "cell_type": "code",
   "execution_count": 75,
   "metadata": {},
   "outputs": [
    {
     "data": {
      "text/plain": [
       "<llama_index.core.indices.vector_store.base.VectorStoreIndex at 0x2cb1b48fa60>"
      ]
     },
     "execution_count": 75,
     "metadata": {},
     "output_type": "execute_result"
    }
   ],
   "source": [
    "index"
   ]
  },
  {
   "cell_type": "code",
   "execution_count": 9,
   "metadata": {},
   "outputs": [],
   "source": [
    "query_engine = index.as_query_engine()"
   ]
  },
  {
   "cell_type": "code",
   "execution_count": 10,
   "metadata": {},
   "outputs": [
    {
     "data": {
      "text/plain": [
       "<llama_index.core.query_engine.retriever_query_engine.RetrieverQueryEngine at 0x19aa4714100>"
      ]
     },
     "execution_count": 10,
     "metadata": {},
     "output_type": "execute_result"
    }
   ],
   "source": [
    "query_engine"
   ]
  },
  {
   "cell_type": "code",
   "execution_count": 11,
   "metadata": {},
   "outputs": [
    {
     "data": {
      "text/plain": [
       "Response(response='The suite of Oracle products used includes OCI Compute, Oracle Exadata Cloud service, Oracle E-Business Suite (EBS), Oracle Digital Assistant, OCI Load Balancing, and OCI Web Application Firewall (WAF).', source_nodes=[NodeWithScore(node=TextNode(id_='ba9658f5-b660-47c3-b8e3-d78408fc6535', embedding=None, metadata={'page_label': '3', 'file_name': '1.IFFCO Oracle Cloud.PDF', 'file_path': 'c:\\\\Users\\\\Mugilan\\\\RAGllm\\\\data\\\\1.IFFCO Oracle Cloud.PDF', 'file_type': 'application/pdf', 'file_size': 1389131, 'creation_date': '2024-05-27', 'last_modified_date': '2024-05-12'}, excluded_embed_metadata_keys=['file_name', 'file_type', 'file_size', 'creation_date', 'last_modified_date', 'last_accessed_date'], excluded_llm_metadata_keys=['file_name', 'file_type', 'file_size', 'creation_date', 'last_modified_date', 'last_accessed_date'], relationships={<NodeRelationship.SOURCE: '1'>: RelatedNodeInfo(node_id='8e726293-ca20-4bcd-8368-19e0e00e2419', node_type=<ObjectType.DOCUMENT: '4'>, metadata={'page_label': '3', 'file_name': '1.IFFCO Oracle Cloud.PDF', 'file_path': 'c:\\\\Users\\\\Mugilan\\\\RAGllm\\\\data\\\\1.IFFCO Oracle Cloud.PDF', 'file_type': 'application/pdf', 'file_size': 1389131, 'creation_date': '2024-05-27', 'last_modified_date': '2024-05-12'}, hash='475cab6b97436c1edf7cd154ba8f09d53748e0f19ea48f6627a2f715c827da7c'), <NodeRelationship.PREVIOUS: '2'>: RelatedNodeInfo(node_id='cbdee6fe-1380-4051-bb0d-cda3ba7c6a7c', node_type=<ObjectType.TEXT: '1'>, metadata={'page_label': '3', 'file_name': '1.IFFCO Oracle Cloud.PDF', 'file_path': 'c:\\\\Users\\\\Mugilan\\\\RAGllm\\\\data\\\\1.IFFCO Oracle Cloud.PDF', 'file_type': 'application/pdf', 'file_size': 1389131, 'creation_date': '2024-05-27', 'last_modified_date': '2024-05-12'}, hash='9f6f25f8916c2684c08da2ec36edfdd1f07928d342beaaa7043e14b575a918d0'), <NodeRelationship.NEXT: '3'>: RelatedNodeInfo(node_id='67c0f4ba-8c00-4df5-b66d-ab557cd1dde2', node_type=<ObjectType.TEXT: '1'>, metadata={}, hash='4218412520f22741452a7f84bdfd766b2f139fa994a62250dd588db41c10b631')}, text='To accommodate all stakeholders, IFFCO wanted to add a voice interface to its \\napplications.  \\nSuite of Oracle products used  \\nIFFCO has worked with Oracle for more than two decade s on its critical applications and \\ndatabases that enable business activities. All custom applications are deployed on Windows \\nServer 2012 VMs comprising five WebLogic Servers and nine .NET Servers. In addition, \\nIFFCO used IBM AIX P8 machines for running co rporate, marketing, and ERP applications.  \\nThe following list includes the relevant OCI features, services, and tools that IFFCO utilizes:  \\n\\uf0b7 OCI Compute : OCI provides fast, flexible, and affordable compute c apacity to fit any \\nworkload need from performant bare metal servers and virtual machines (VMs) to \\nlightweight containers.  \\n\\uf0b7 Oracle Exadata Cloud service : Oracle Exadata Cloud service is the best place for \\ncustomers to run Oracle Database workloads in the cloud.', start_char_idx=527, end_char_idx=1447, text_template='{metadata_str}\\n\\n{content}', metadata_template='{key}: {value}', metadata_seperator='\\n'), score=0.8132520707649157), NodeWithScore(node=TextNode(id_='2d7ee397-2015-427f-9477-cac8ace9a9ed', embedding=None, metadata={'page_label': '3', 'file_name': '1.IFFCO Oracle Cloud.PDF', 'file_path': 'c:\\\\Users\\\\Mugilan\\\\RAGllm\\\\data\\\\1.IFFCO Oracle Cloud.PDF', 'file_type': 'application/pdf', 'file_size': 1389131, 'creation_date': '2024-05-27', 'last_modified_date': '2024-05-12'}, excluded_embed_metadata_keys=['file_name', 'file_type', 'file_size', 'creation_date', 'last_modified_date', 'last_accessed_date'], excluded_llm_metadata_keys=['file_name', 'file_type', 'file_size', 'creation_date', 'last_modified_date', 'last_accessed_date'], relationships={<NodeRelationship.SOURCE: '1'>: RelatedNodeInfo(node_id='8e726293-ca20-4bcd-8368-19e0e00e2419', node_type=<ObjectType.DOCUMENT: '4'>, metadata={'page_label': '3', 'file_name': '1.IFFCO Oracle Cloud.PDF', 'file_path': 'c:\\\\Users\\\\Mugilan\\\\RAGllm\\\\data\\\\1.IFFCO Oracle Cloud.PDF', 'file_type': 'application/pdf', 'file_size': 1389131, 'creation_date': '2024-05-27', 'last_modified_date': '2024-05-12'}, hash='475cab6b97436c1edf7cd154ba8f09d53748e0f19ea48f6627a2f715c827da7c'), <NodeRelationship.PREVIOUS: '2'>: RelatedNodeInfo(node_id='4e48743d-b0c5-4f34-afbd-fdceb1663693', node_type=<ObjectType.TEXT: '1'>, metadata={'page_label': '3', 'file_name': '1.IFFCO Oracle Cloud.PDF', 'file_path': 'c:\\\\Users\\\\Mugilan\\\\RAGllm\\\\data\\\\1.IFFCO Oracle Cloud.PDF', 'file_type': 'application/pdf', 'file_size': 1389131, 'creation_date': '2024-05-27', 'last_modified_date': '2024-05-12'}, hash='24245945bb173faec741d269601232e1f8e3a668973b5239839e75ac830fe2b7'), <NodeRelationship.NEXT: '3'>: RelatedNodeInfo(node_id='a1e7a749-df77-4618-b893-d0bedae73022', node_type=<ObjectType.TEXT: '1'>, metadata={}, hash='548af0f71fb6a342697cb50f2d6846395c6c7113a9f214175f278535aec2fd69')}, text='Dedicated X8M infrastructure \\nis isolated from other users, allowing database teams to improve security, performance, \\nand uptime for customer databases.  \\n\\uf0b7 Oracle E -Business Suite (EBS) : An Oracle packaged application trusted by thousands of \\norganizations around the world to run their key business operations like enterprise \\nresource planning (ERP)  \\n\\uf0b7 Custom applications on OCI : Homegrown IT or departmental applications that support an \\norganization’s unique business needs  \\n\\uf0b7 Oracle Digital Assistan t: Oracle Digital Assistant is an AI service that offers prebuilt skills \\nand templates to create conversational experiences for your business applications and \\ncustomers through text, chat, and voice interfaces.  \\n\\uf0b7 OCI Load Balancing : OCI Flexible Load Balancing enables customers to distribute web \\nrequests across a fleet of servers or automatically route traffic across fault domains, \\navailability domains, or regions, yielding high availabilit y and fault tolerance for any \\napplication or data source.  \\n\\uf0b7 OCI Web Application Firewall (WAF) : By combining threat intelligence with consistent rule \\nenforcement on an Ora cle flexible load balancer, OCI WAF strengthens defenses and \\nprotects internet -facing application servers and internal applications.', start_char_idx=1448, end_char_idx=2724, text_template='{metadata_str}\\n\\n{content}', metadata_template='{key}: {value}', metadata_seperator='\\n'), score=0.8132084795755147)], metadata={'ba9658f5-b660-47c3-b8e3-d78408fc6535': {'page_label': '3', 'file_name': '1.IFFCO Oracle Cloud.PDF', 'file_path': 'c:\\\\Users\\\\Mugilan\\\\RAGllm\\\\data\\\\1.IFFCO Oracle Cloud.PDF', 'file_type': 'application/pdf', 'file_size': 1389131, 'creation_date': '2024-05-27', 'last_modified_date': '2024-05-12'}, '2d7ee397-2015-427f-9477-cac8ace9a9ed': {'page_label': '3', 'file_name': '1.IFFCO Oracle Cloud.PDF', 'file_path': 'c:\\\\Users\\\\Mugilan\\\\RAGllm\\\\data\\\\1.IFFCO Oracle Cloud.PDF', 'file_type': 'application/pdf', 'file_size': 1389131, 'creation_date': '2024-05-27', 'last_modified_date': '2024-05-12'}})"
      ]
     },
     "execution_count": 11,
     "metadata": {},
     "output_type": "execute_result"
    }
   ],
   "source": [
    "response = query_engine.query(\"suit of oracle products?\")\n",
    "response"
   ]
  },
  {
   "cell_type": "code",
   "execution_count": 12,
   "metadata": {},
   "outputs": [
    {
     "name": "stdout",
     "output_type": "stream",
     "text": [
      "Final Response: The suite of Oracle products used includes OCI\n",
      "Compute, Oracle Exadata Cloud service, Oracle E-Business Suite (EBS),\n",
      "Oracle Digital Assistant, OCI Load Balancing, and OCI Web Application\n",
      "Firewall (WAF).\n",
      "______________________________________________________________________\n",
      "Source Node 1/2\n",
      "Node ID: ba9658f5-b660-47c3-b8e3-d78408fc6535\n",
      "Similarity: 0.8132520707649157\n",
      "Text: To accommodate all stakeholders, IFFCO wanted to add a voice\n",
      "interface to its  applications.   Suite of Oracle products used\n",
      "IFFCO has worked with Oracle for more than two decade s on its\n",
      "critical applications and  databases that enable business activities.\n",
      "All custom applications are deployed on Windows  Server 2012 VMs\n",
      "comprising five WebLog...\n",
      "______________________________________________________________________\n",
      "Source Node 2/2\n",
      "Node ID: 2d7ee397-2015-427f-9477-cac8ace9a9ed\n",
      "Similarity: 0.8132084795755147\n",
      "Text: Dedicated X8M infrastructure  is isolated from other users,\n",
      "allowing database teams to improve security, performance,  and uptime\n",
      "for customer databases.    Oracle E -Business Suite (EBS) : An Oracle\n",
      "packaged application trusted by thousands of  organizations around the\n",
      "world to run their key business operations like enterprise  resource\n",
      "planni...\n",
      "The suite of Oracle products used includes OCI Compute, Oracle Exadata Cloud service, Oracle E-Business Suite (EBS), Oracle Digital Assistant, OCI Load Balancing, and OCI Web Application Firewall (WAF).\n"
     ]
    }
   ],
   "source": [
    "from llama_index.core.response import pprint_utils\n",
    "pprint_utils.pprint_response(response,show_source=True)\n",
    "print(response)"
   ]
  },
  {
   "cell_type": "code",
   "execution_count": 19,
   "metadata": {},
   "outputs": [],
   "source": [
    "from llama_index.core.retrievers import VectorIndexRetriever\n",
    "from llama_index.core.query_engine import RetrieverQueryEngine\n",
    "from llama_index.core.indices.postprocessor import SimilarityPostprocessor\n",
    "\n",
    "retriever = VectorIndexRetriever(index=index , similarity_top_k=4)\n",
    "postprocessor = SimilarityPostprocessor(similarity_cutoff=0.80 )\n",
    "query_engine = RetrieverQueryEngine(retriever=retriever,\n",
    "                                    node_postprocessors=[postprocessor])"
   ]
  },
  {
   "cell_type": "code",
   "execution_count": 24,
   "metadata": {},
   "outputs": [],
   "source": [
    "response = query_engine.query(\"What are the products of Oracle cloud?\")\n"
   ]
  },
  {
   "cell_type": "code",
   "execution_count": 25,
   "metadata": {},
   "outputs": [
    {
     "name": "stdout",
     "output_type": "stream",
     "text": [
      "Final Response: Oracle Cloud offers a range of products and services\n",
      "including Oracle E-Business Suite (EBS), custom applications on OCI,\n",
      "Oracle Digital Assistant, OCI Load Balancing, OCI Web Application\n",
      "Firewall (WAF), and Oracle Exadata Cloud service.\n",
      "______________________________________________________________________\n",
      "Source Node 1/4\n",
      "Node ID: ea764ec2-ba80-4fc8-805e-22bcae8ab28d\n",
      "Similarity: 0.8466377678322787\n",
      "Text: 2  Why Toyota Motor chose Oracle   The company benchmarked a\n",
      "number of cloud service providers as part of its HPC  multicloud\n",
      "strategy, looki ng into performance, cost, computational accuracy,\n",
      "flexibility,  stability, and other requirements. After considering\n",
      "these factors, Toyota decided to move  the foundation of its\n",
      "computational simulations ...\n",
      "______________________________________________________________________\n",
      "Source Node 2/4\n",
      "Node ID: 2d7ee397-2015-427f-9477-cac8ace9a9ed\n",
      "Similarity: 0.84644393028001\n",
      "Text: Dedicated X8M infrastructure  is isolated from other users,\n",
      "allowing database teams to improve security, performance,  and uptime\n",
      "for customer databases.    Oracle E -Business Suite (EBS) : An Oracle\n",
      "packaged application trusted by thousands of  organizations around the\n",
      "world to run their key business operations like enterprise  resource\n",
      "planni...\n",
      "______________________________________________________________________\n",
      "Source Node 3/4\n",
      "Node ID: 4e48743d-b0c5-4f34-afbd-fdceb1663693\n",
      "Similarity: 0.8448940226590564\n",
      "Text:  Oracle Exadata Cloud service : Oracle Exadata Cloud service is\n",
      "the best place for  customers to run Oracle Database workloads in the\n",
      "cloud. Dedicated X8M infrastructure  is isolated from other users,\n",
      "allowing database teams to improve security, performance,  and uptime\n",
      "for customer databases.    Oracle E -Business Suite (EBS) : An Oracle\n",
      "pack...\n",
      "______________________________________________________________________\n",
      "Source Node 4/4\n",
      "Node ID: 13259e43-d546-44c2-a4ef-3d5e9a2c95fe\n",
      "Similarity: 0.8407825964763893\n",
      "Text: 2  Why Toyota Motor chose Oracle   The company benchmarked a\n",
      "number of cloud service providers as part of its HPC  multicloud\n",
      "strategy, looki ng into performance, cost, computational accuracy,\n",
      "flexibility,  stability, and other requirements. After considering\n",
      "these factors, Toyota decided to move  the foundation of its\n",
      "computational simulations ...\n",
      "Oracle Cloud offers a range of products and services including Oracle E-Business Suite (EBS), custom applications on OCI, Oracle Digital Assistant, OCI Load Balancing, OCI Web Application Firewall (WAF), and Oracle Exadata Cloud service.\n"
     ]
    }
   ],
   "source": [
    "pprint_utils.pprint_response(response,show_source=True)\n",
    "print(response)"
   ]
  },
  {
   "cell_type": "code",
   "execution_count": 27,
   "metadata": {},
   "outputs": [
    {
     "name": "stdout",
     "output_type": "stream",
     "text": [
      "IFFCO uses Oracle products for its critical applications and databases that enable business activities. They have been using Oracle products for decades and have more recently started using Oracle Cloud Infrastructure (OCI) to modernize their IT estate. IFFCO utilizes a suite of Oracle products including OCI Compute, Oracle Exadata Cloud service, Oracle E-Business Suite, Custom applications on OCI, Oracle Digital Assistant, OCI Load Balancing, OCI Web Application Firewall (WAF), and OCI FastConnect to support their operations and provide benefits to their stakeholders.\n"
     ]
    }
   ],
   "source": [
    "import os.path\n",
    "from llama_index.core import (\n",
    "    VectorStoreIndex,\n",
    "    SimpleDirectoryReader,\n",
    "    StorageContext,\n",
    "    load_index_from_storage,\n",
    ")\n",
    "\n",
    "# check if storage already exists\n",
    "PERSIST_DIR = \"./storage\"\n",
    "if not os.path.exists(PERSIST_DIR):\n",
    "    # load the documents and create the index\n",
    "    documents = SimpleDirectoryReader(\"data\").load_data()\n",
    "    index = VectorStoreIndex.from_documents(documents)\n",
    "    # store it for later\n",
    "    index.storage_context.persist(persist_dir=PERSIST_DIR)\n",
    "else:\n",
    "    # load the existing index\n",
    "    storage_context = StorageContext.from_defaults(persist_dir=PERSIST_DIR)\n",
    "    index = load_index_from_storage(storage_context)\n",
    "\n",
    "# either way we can now query the index\n",
    "query_engine = index.as_query_engine()\n",
    "response = query_engine.query(\"How the IFFCO uses Oracle ?\")\n",
    "print(response)"
   ]
  }
 ],
 "metadata": {
  "kernelspec": {
   "display_name": "Python 3",
   "language": "python",
   "name": "python3"
  },
  "language_info": {
   "codemirror_mode": {
    "name": "ipython",
    "version": 3
   },
   "file_extension": ".py",
   "mimetype": "text/x-python",
   "name": "python",
   "nbconvert_exporter": "python",
   "pygments_lexer": "ipython3",
   "version": "3.10.14"
  }
 },
 "nbformat": 4,
 "nbformat_minor": 2
}
